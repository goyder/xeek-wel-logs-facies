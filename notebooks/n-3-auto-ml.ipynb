{
 "cells": [
  {
   "cell_type": "markdown",
   "metadata": {},
   "source": [
    "# Sagemaker AutoML"
   ]
  },
  {
   "cell_type": "code",
   "execution_count": 40,
   "metadata": {},
   "outputs": [],
   "source": [
    "import os\n",
    "import pandas as pd\n",
    "import boto3\n",
    "import io\n",
    "import datetime\n",
    "from os.path import join\n",
    "from time import sleep\n",
    "\n",
    "import xeek\n",
    "import xeek.features as features"
   ]
  },
  {
   "cell_type": "markdown",
   "metadata": {},
   "source": [
    "## Data upload\n",
    "\n",
    "For this process, we must:\n",
    "\n",
    "* Pull in our data\n",
    "* Format it to a specific (relatively standard) format\n",
    "* Upload to S3"
   ]
  },
  {
   "cell_type": "code",
   "execution_count": 2,
   "metadata": {},
   "outputs": [],
   "source": [
    "df_train = pd.read_csv(xeek.raw_train_filepath, sep=\";\")\n",
    "df_test = pd.read_csv(xeek.raw_test_filepath, sep=\";\")"
   ]
  },
  {
   "cell_type": "code",
   "execution_count": 3,
   "metadata": {},
   "outputs": [
    {
     "data": {
      "text/html": [
       "<div>\n",
       "<style scoped>\n",
       "    .dataframe tbody tr th:only-of-type {\n",
       "        vertical-align: middle;\n",
       "    }\n",
       "\n",
       "    .dataframe tbody tr th {\n",
       "        vertical-align: top;\n",
       "    }\n",
       "\n",
       "    .dataframe thead th {\n",
       "        text-align: right;\n",
       "    }\n",
       "</style>\n",
       "<table border=\"1\" class=\"dataframe\">\n",
       "  <thead>\n",
       "    <tr style=\"text-align: right;\">\n",
       "      <th></th>\n",
       "      <th>WELL</th>\n",
       "      <th>DEPTH_MD</th>\n",
       "      <th>X_LOC</th>\n",
       "      <th>Y_LOC</th>\n",
       "      <th>Z_LOC</th>\n",
       "      <th>GROUP</th>\n",
       "      <th>FORMATION</th>\n",
       "      <th>CALI</th>\n",
       "      <th>RSHA</th>\n",
       "      <th>RMED</th>\n",
       "      <th>...</th>\n",
       "      <th>ROP</th>\n",
       "      <th>DTS</th>\n",
       "      <th>DCAL</th>\n",
       "      <th>DRHO</th>\n",
       "      <th>MUDWEIGHT</th>\n",
       "      <th>RMIC</th>\n",
       "      <th>ROPA</th>\n",
       "      <th>RXO</th>\n",
       "      <th>FORCE_2020_LITHOFACIES_LITHOLOGY</th>\n",
       "      <th>FORCE_2020_LITHOFACIES_CONFIDENCE</th>\n",
       "    </tr>\n",
       "  </thead>\n",
       "  <tbody>\n",
       "    <tr>\n",
       "      <th>0</th>\n",
       "      <td>15/9-13</td>\n",
       "      <td>494.5280</td>\n",
       "      <td>437641.96875</td>\n",
       "      <td>6470972.5</td>\n",
       "      <td>-469.501831</td>\n",
       "      <td>NORDLAND GP.</td>\n",
       "      <td>NaN</td>\n",
       "      <td>19.480835</td>\n",
       "      <td>NaN</td>\n",
       "      <td>1.611410</td>\n",
       "      <td>...</td>\n",
       "      <td>34.636410</td>\n",
       "      <td>NaN</td>\n",
       "      <td>NaN</td>\n",
       "      <td>-0.574928</td>\n",
       "      <td>NaN</td>\n",
       "      <td>NaN</td>\n",
       "      <td>NaN</td>\n",
       "      <td>NaN</td>\n",
       "      <td>65000</td>\n",
       "      <td>1.0</td>\n",
       "    </tr>\n",
       "    <tr>\n",
       "      <th>1</th>\n",
       "      <td>15/9-13</td>\n",
       "      <td>494.6800</td>\n",
       "      <td>437641.96875</td>\n",
       "      <td>6470972.5</td>\n",
       "      <td>-469.653809</td>\n",
       "      <td>NORDLAND GP.</td>\n",
       "      <td>NaN</td>\n",
       "      <td>19.468800</td>\n",
       "      <td>NaN</td>\n",
       "      <td>1.618070</td>\n",
       "      <td>...</td>\n",
       "      <td>34.636410</td>\n",
       "      <td>NaN</td>\n",
       "      <td>NaN</td>\n",
       "      <td>-0.570188</td>\n",
       "      <td>NaN</td>\n",
       "      <td>NaN</td>\n",
       "      <td>NaN</td>\n",
       "      <td>NaN</td>\n",
       "      <td>65000</td>\n",
       "      <td>1.0</td>\n",
       "    </tr>\n",
       "    <tr>\n",
       "      <th>2</th>\n",
       "      <td>15/9-13</td>\n",
       "      <td>494.8320</td>\n",
       "      <td>437641.96875</td>\n",
       "      <td>6470972.5</td>\n",
       "      <td>-469.805786</td>\n",
       "      <td>NORDLAND GP.</td>\n",
       "      <td>NaN</td>\n",
       "      <td>19.468800</td>\n",
       "      <td>NaN</td>\n",
       "      <td>1.626459</td>\n",
       "      <td>...</td>\n",
       "      <td>34.779556</td>\n",
       "      <td>NaN</td>\n",
       "      <td>NaN</td>\n",
       "      <td>-0.574245</td>\n",
       "      <td>NaN</td>\n",
       "      <td>NaN</td>\n",
       "      <td>NaN</td>\n",
       "      <td>NaN</td>\n",
       "      <td>65000</td>\n",
       "      <td>1.0</td>\n",
       "    </tr>\n",
       "    <tr>\n",
       "      <th>3</th>\n",
       "      <td>15/9-13</td>\n",
       "      <td>494.9840</td>\n",
       "      <td>437641.96875</td>\n",
       "      <td>6470972.5</td>\n",
       "      <td>-469.957794</td>\n",
       "      <td>NORDLAND GP.</td>\n",
       "      <td>NaN</td>\n",
       "      <td>19.459282</td>\n",
       "      <td>NaN</td>\n",
       "      <td>1.621594</td>\n",
       "      <td>...</td>\n",
       "      <td>39.965164</td>\n",
       "      <td>NaN</td>\n",
       "      <td>NaN</td>\n",
       "      <td>-0.586315</td>\n",
       "      <td>NaN</td>\n",
       "      <td>NaN</td>\n",
       "      <td>NaN</td>\n",
       "      <td>NaN</td>\n",
       "      <td>65000</td>\n",
       "      <td>1.0</td>\n",
       "    </tr>\n",
       "    <tr>\n",
       "      <th>4</th>\n",
       "      <td>15/9-13</td>\n",
       "      <td>495.1360</td>\n",
       "      <td>437641.96875</td>\n",
       "      <td>6470972.5</td>\n",
       "      <td>-470.109772</td>\n",
       "      <td>NORDLAND GP.</td>\n",
       "      <td>NaN</td>\n",
       "      <td>19.453100</td>\n",
       "      <td>NaN</td>\n",
       "      <td>1.602679</td>\n",
       "      <td>...</td>\n",
       "      <td>57.483765</td>\n",
       "      <td>NaN</td>\n",
       "      <td>NaN</td>\n",
       "      <td>-0.597914</td>\n",
       "      <td>NaN</td>\n",
       "      <td>NaN</td>\n",
       "      <td>NaN</td>\n",
       "      <td>NaN</td>\n",
       "      <td>65000</td>\n",
       "      <td>1.0</td>\n",
       "    </tr>\n",
       "    <tr>\n",
       "      <th>...</th>\n",
       "      <td>...</td>\n",
       "      <td>...</td>\n",
       "      <td>...</td>\n",
       "      <td>...</td>\n",
       "      <td>...</td>\n",
       "      <td>...</td>\n",
       "      <td>...</td>\n",
       "      <td>...</td>\n",
       "      <td>...</td>\n",
       "      <td>...</td>\n",
       "      <td>...</td>\n",
       "      <td>...</td>\n",
       "      <td>...</td>\n",
       "      <td>...</td>\n",
       "      <td>...</td>\n",
       "      <td>...</td>\n",
       "      <td>...</td>\n",
       "      <td>...</td>\n",
       "      <td>...</td>\n",
       "      <td>...</td>\n",
       "      <td>...</td>\n",
       "    </tr>\n",
       "    <tr>\n",
       "      <th>1170506</th>\n",
       "      <td>7/1-2 S</td>\n",
       "      <td>3169.3124</td>\n",
       "      <td>NaN</td>\n",
       "      <td>NaN</td>\n",
       "      <td>NaN</td>\n",
       "      <td>VESTLAND GP.</td>\n",
       "      <td>Bryne Fm.</td>\n",
       "      <td>8.423170</td>\n",
       "      <td>NaN</td>\n",
       "      <td>NaN</td>\n",
       "      <td>...</td>\n",
       "      <td>27.674368</td>\n",
       "      <td>NaN</td>\n",
       "      <td>NaN</td>\n",
       "      <td>-0.001763</td>\n",
       "      <td>NaN</td>\n",
       "      <td>NaN</td>\n",
       "      <td>26.673708</td>\n",
       "      <td>NaN</td>\n",
       "      <td>30000</td>\n",
       "      <td>2.0</td>\n",
       "    </tr>\n",
       "    <tr>\n",
       "      <th>1170507</th>\n",
       "      <td>7/1-2 S</td>\n",
       "      <td>3169.4644</td>\n",
       "      <td>NaN</td>\n",
       "      <td>NaN</td>\n",
       "      <td>NaN</td>\n",
       "      <td>VESTLAND GP.</td>\n",
       "      <td>Bryne Fm.</td>\n",
       "      <td>8.379244</td>\n",
       "      <td>NaN</td>\n",
       "      <td>NaN</td>\n",
       "      <td>...</td>\n",
       "      <td>28.024338</td>\n",
       "      <td>NaN</td>\n",
       "      <td>NaN</td>\n",
       "      <td>-0.007600</td>\n",
       "      <td>NaN</td>\n",
       "      <td>NaN</td>\n",
       "      <td>26.840818</td>\n",
       "      <td>NaN</td>\n",
       "      <td>65030</td>\n",
       "      <td>2.0</td>\n",
       "    </tr>\n",
       "    <tr>\n",
       "      <th>1170508</th>\n",
       "      <td>7/1-2 S</td>\n",
       "      <td>3169.6164</td>\n",
       "      <td>NaN</td>\n",
       "      <td>NaN</td>\n",
       "      <td>NaN</td>\n",
       "      <td>VESTLAND GP.</td>\n",
       "      <td>Bryne Fm.</td>\n",
       "      <td>8.350248</td>\n",
       "      <td>NaN</td>\n",
       "      <td>NaN</td>\n",
       "      <td>...</td>\n",
       "      <td>28.091282</td>\n",
       "      <td>NaN</td>\n",
       "      <td>NaN</td>\n",
       "      <td>-0.018297</td>\n",
       "      <td>NaN</td>\n",
       "      <td>NaN</td>\n",
       "      <td>27.007942</td>\n",
       "      <td>NaN</td>\n",
       "      <td>65030</td>\n",
       "      <td>2.0</td>\n",
       "    </tr>\n",
       "    <tr>\n",
       "      <th>1170509</th>\n",
       "      <td>7/1-2 S</td>\n",
       "      <td>3169.7684</td>\n",
       "      <td>NaN</td>\n",
       "      <td>NaN</td>\n",
       "      <td>NaN</td>\n",
       "      <td>VESTLAND GP.</td>\n",
       "      <td>Bryne Fm.</td>\n",
       "      <td>8.313779</td>\n",
       "      <td>NaN</td>\n",
       "      <td>NaN</td>\n",
       "      <td>...</td>\n",
       "      <td>28.019775</td>\n",
       "      <td>NaN</td>\n",
       "      <td>NaN</td>\n",
       "      <td>-0.011438</td>\n",
       "      <td>NaN</td>\n",
       "      <td>NaN</td>\n",
       "      <td>27.175179</td>\n",
       "      <td>NaN</td>\n",
       "      <td>65030</td>\n",
       "      <td>2.0</td>\n",
       "    </tr>\n",
       "    <tr>\n",
       "      <th>1170510</th>\n",
       "      <td>7/1-2 S</td>\n",
       "      <td>3169.9204</td>\n",
       "      <td>NaN</td>\n",
       "      <td>NaN</td>\n",
       "      <td>NaN</td>\n",
       "      <td>VESTLAND GP.</td>\n",
       "      <td>Bryne Fm.</td>\n",
       "      <td>8.294910</td>\n",
       "      <td>NaN</td>\n",
       "      <td>NaN</td>\n",
       "      <td>...</td>\n",
       "      <td>25.985943</td>\n",
       "      <td>NaN</td>\n",
       "      <td>NaN</td>\n",
       "      <td>-0.011398</td>\n",
       "      <td>NaN</td>\n",
       "      <td>NaN</td>\n",
       "      <td>27.342442</td>\n",
       "      <td>NaN</td>\n",
       "      <td>65030</td>\n",
       "      <td>2.0</td>\n",
       "    </tr>\n",
       "  </tbody>\n",
       "</table>\n",
       "<p>1170511 rows × 29 columns</p>\n",
       "</div>"
      ],
      "text/plain": [
       "            WELL   DEPTH_MD         X_LOC      Y_LOC       Z_LOC  \\\n",
       "0        15/9-13   494.5280  437641.96875  6470972.5 -469.501831   \n",
       "1        15/9-13   494.6800  437641.96875  6470972.5 -469.653809   \n",
       "2        15/9-13   494.8320  437641.96875  6470972.5 -469.805786   \n",
       "3        15/9-13   494.9840  437641.96875  6470972.5 -469.957794   \n",
       "4        15/9-13   495.1360  437641.96875  6470972.5 -470.109772   \n",
       "...          ...        ...           ...        ...         ...   \n",
       "1170506  7/1-2 S  3169.3124           NaN        NaN         NaN   \n",
       "1170507  7/1-2 S  3169.4644           NaN        NaN         NaN   \n",
       "1170508  7/1-2 S  3169.6164           NaN        NaN         NaN   \n",
       "1170509  7/1-2 S  3169.7684           NaN        NaN         NaN   \n",
       "1170510  7/1-2 S  3169.9204           NaN        NaN         NaN   \n",
       "\n",
       "                GROUP  FORMATION       CALI  RSHA      RMED  ...        ROP  \\\n",
       "0        NORDLAND GP.        NaN  19.480835   NaN  1.611410  ...  34.636410   \n",
       "1        NORDLAND GP.        NaN  19.468800   NaN  1.618070  ...  34.636410   \n",
       "2        NORDLAND GP.        NaN  19.468800   NaN  1.626459  ...  34.779556   \n",
       "3        NORDLAND GP.        NaN  19.459282   NaN  1.621594  ...  39.965164   \n",
       "4        NORDLAND GP.        NaN  19.453100   NaN  1.602679  ...  57.483765   \n",
       "...               ...        ...        ...   ...       ...  ...        ...   \n",
       "1170506  VESTLAND GP.  Bryne Fm.   8.423170   NaN       NaN  ...  27.674368   \n",
       "1170507  VESTLAND GP.  Bryne Fm.   8.379244   NaN       NaN  ...  28.024338   \n",
       "1170508  VESTLAND GP.  Bryne Fm.   8.350248   NaN       NaN  ...  28.091282   \n",
       "1170509  VESTLAND GP.  Bryne Fm.   8.313779   NaN       NaN  ...  28.019775   \n",
       "1170510  VESTLAND GP.  Bryne Fm.   8.294910   NaN       NaN  ...  25.985943   \n",
       "\n",
       "         DTS  DCAL      DRHO  MUDWEIGHT  RMIC       ROPA  RXO  \\\n",
       "0        NaN   NaN -0.574928        NaN   NaN        NaN  NaN   \n",
       "1        NaN   NaN -0.570188        NaN   NaN        NaN  NaN   \n",
       "2        NaN   NaN -0.574245        NaN   NaN        NaN  NaN   \n",
       "3        NaN   NaN -0.586315        NaN   NaN        NaN  NaN   \n",
       "4        NaN   NaN -0.597914        NaN   NaN        NaN  NaN   \n",
       "...      ...   ...       ...        ...   ...        ...  ...   \n",
       "1170506  NaN   NaN -0.001763        NaN   NaN  26.673708  NaN   \n",
       "1170507  NaN   NaN -0.007600        NaN   NaN  26.840818  NaN   \n",
       "1170508  NaN   NaN -0.018297        NaN   NaN  27.007942  NaN   \n",
       "1170509  NaN   NaN -0.011438        NaN   NaN  27.175179  NaN   \n",
       "1170510  NaN   NaN -0.011398        NaN   NaN  27.342442  NaN   \n",
       "\n",
       "         FORCE_2020_LITHOFACIES_LITHOLOGY  FORCE_2020_LITHOFACIES_CONFIDENCE  \n",
       "0                                   65000                                1.0  \n",
       "1                                   65000                                1.0  \n",
       "2                                   65000                                1.0  \n",
       "3                                   65000                                1.0  \n",
       "4                                   65000                                1.0  \n",
       "...                                   ...                                ...  \n",
       "1170506                             30000                                2.0  \n",
       "1170507                             65030                                2.0  \n",
       "1170508                             65030                                2.0  \n",
       "1170509                             65030                                2.0  \n",
       "1170510                             65030                                2.0  \n",
       "\n",
       "[1170511 rows x 29 columns]"
      ]
     },
     "execution_count": 3,
     "metadata": {},
     "output_type": "execute_result"
    }
   ],
   "source": [
    "df_train"
   ]
  },
  {
   "cell_type": "code",
   "execution_count": 4,
   "metadata": {},
   "outputs": [],
   "source": [
    "(df_train\n",
    " .drop([\"FORCE_2020_LITHOFACIES_CONFIDENCE\"], axis=1)\n",
    " .to_csv(\n",
    "     join(xeek.processed_data_dir, \"train_dataset_formatted.csv\"), \n",
    "     index=False, header=True))"
   ]
  },
  {
   "cell_type": "markdown",
   "metadata": {},
   "source": [
    "And now we upload:"
   ]
  },
  {
   "cell_type": "code",
   "execution_count": 5,
   "metadata": {},
   "outputs": [],
   "source": [
    "s3 = boto3.resource(\"s3\")\n",
    "bucket_name = os.environ[\"S3_BUCKET\"]\n",
    "bucket = s3.Bucket(bucket_name)\n",
    "filename = \"facies_train.csv\"\n",
    "\n",
    "target_key = \"automl/input/{}\".format(filename)\n",
    "bucket.upload_file(join(xeek.processed_data_dir, \"train_dataset_formatted.csv\"), target_key)"
   ]
  },
  {
   "cell_type": "markdown",
   "metadata": {},
   "source": [
    "## AutoML Job"
   ]
  },
  {
   "cell_type": "markdown",
   "metadata": {},
   "source": [
    "### Config"
   ]
  },
  {
   "cell_type": "markdown",
   "metadata": {},
   "source": [
    "We define our config. Most importantly we have to ensure this is a classification job."
   ]
  },
  {
   "cell_type": "code",
   "execution_count": 12,
   "metadata": {},
   "outputs": [],
   "source": [
    "input_data_config = [{\n",
    "    'DataSource': {\n",
    "        'S3DataSource': {\n",
    "            'S3DataType': 'S3Prefix',\n",
    "            'S3Uri': 's3://{}/{}'.format(bucket_name, target_key)\n",
    "        }\n",
    "    },\n",
    "    'TargetAttributeName': 'FORCE_2020_LITHOFACIES_LITHOLOGY'\n",
    "}]\n",
    "\n",
    "auto_ml_objective = {\n",
    "    'MetricName': 'F1macro'\n",
    "}\n",
    "\n",
    "output_data_config = {\n",
    "    'S3OutputPath': 's3://{}/automl/output/'.format(bucket_name)\n",
    "}\n",
    "\n",
    "problem_type = \"MulticlassClassification\""
   ]
  },
  {
   "cell_type": "markdown",
   "metadata": {},
   "source": [
    "### Create our job"
   ]
  },
  {
   "cell_type": "code",
   "execution_count": 13,
   "metadata": {},
   "outputs": [
    {
     "name": "stdout",
     "output_type": "stream",
     "text": [
      "automl-job-1602734264\n"
     ]
    }
   ],
   "source": [
    "now = datetime.datetime.now()\n",
    "auto_ml_job_name = 'automl-job-{}'.format(int(datetime.datetime.now().timestamp()))\n",
    "print(auto_ml_job_name)"
   ]
  },
  {
   "cell_type": "code",
   "execution_count": 16,
   "metadata": {},
   "outputs": [
    {
     "data": {
      "text/plain": [
       "{'AutoMLJobArn': 'arn:aws:sagemaker:ap-southeast-2:949012111517:automl-job/automl-job-1602734264',\n",
       " 'ResponseMetadata': {'RequestId': 'a961321b-271a-4c4e-8653-92b97b734177',\n",
       "  'HTTPStatusCode': 200,\n",
       "  'HTTPHeaders': {'x-amzn-requestid': 'a961321b-271a-4c4e-8653-92b97b734177',\n",
       "   'content-type': 'application/x-amz-json-1.1',\n",
       "   'content-length': '97',\n",
       "   'date': 'Thu, 15 Oct 2020 03:57:52 GMT'},\n",
       "  'RetryAttempts': 0}}"
      ]
     },
     "execution_count": 16,
     "metadata": {},
     "output_type": "execute_result"
    }
   ],
   "source": [
    "sm = boto3.client(\"sagemaker\",\n",
    "                 region_name=os.environ['S3_REGION'])\n",
    "sm.create_auto_ml_job(AutoMLJobName=auto_ml_job_name,\n",
    "                      InputDataConfig=input_data_config,\n",
    "                      OutputDataConfig=output_data_config,\n",
    "                      ProblemType=problem_type,\n",
    "                      AutoMLJobObjective=auto_ml_objective,\n",
    "                      RoleArn=os.environ['SM_ROLE'])"
   ]
  },
  {
   "cell_type": "markdown",
   "metadata": {},
   "source": [
    "### Describe and track our job"
   ]
  },
  {
   "cell_type": "markdown",
   "metadata": {},
   "source": [
    "Learned experience: set a time limit for this process."
   ]
  },
  {
   "cell_type": "code",
   "execution_count": 44,
   "metadata": {},
   "outputs": [
    {
     "name": "stdout",
     "output_type": "stream",
     "text": [
      "Failed -- Failed\n"
     ]
    },
    {
     "ename": "KeyboardInterrupt",
     "evalue": "",
     "output_type": "error",
     "traceback": [
      "\u001b[0;31m---------------------------------------------------------------------------\u001b[0m",
      "\u001b[0;31mKeyboardInterrupt\u001b[0m                         Traceback (most recent call last)",
      "\u001b[0;32m<ipython-input-44-74c95307d0c4>\u001b[0m in \u001b[0;36m<module>\u001b[0;34m\u001b[0m\n\u001b[1;32m      2\u001b[0m     \u001b[0mdescription\u001b[0m \u001b[0;34m=\u001b[0m \u001b[0msm\u001b[0m\u001b[0;34m.\u001b[0m\u001b[0mdescribe_auto_ml_job\u001b[0m\u001b[0;34m(\u001b[0m\u001b[0mAutoMLJobName\u001b[0m\u001b[0;34m=\u001b[0m\u001b[0mauto_ml_job_name\u001b[0m\u001b[0;34m)\u001b[0m\u001b[0;34m\u001b[0m\u001b[0;34m\u001b[0m\u001b[0m\n\u001b[1;32m      3\u001b[0m     \u001b[0mprint\u001b[0m\u001b[0;34m(\u001b[0m\u001b[0;34m\"{} -- {}\"\u001b[0m\u001b[0;34m.\u001b[0m\u001b[0mformat\u001b[0m\u001b[0;34m(\u001b[0m\u001b[0mdescription\u001b[0m\u001b[0;34m[\u001b[0m\u001b[0;34m'AutoMLJobStatus'\u001b[0m\u001b[0;34m]\u001b[0m\u001b[0;34m,\u001b[0m \u001b[0mdescription\u001b[0m\u001b[0;34m[\u001b[0m\u001b[0;34m'AutoMLJobSecondaryStatus'\u001b[0m\u001b[0;34m]\u001b[0m\u001b[0;34m)\u001b[0m\u001b[0;34m)\u001b[0m\u001b[0;34m\u001b[0m\u001b[0;34m\u001b[0m\u001b[0m\n\u001b[0;32m----> 4\u001b[0;31m     \u001b[0msleep\u001b[0m\u001b[0;34m(\u001b[0m\u001b[0;36m30\u001b[0m\u001b[0;34m)\u001b[0m\u001b[0;34m\u001b[0m\u001b[0;34m\u001b[0m\u001b[0m\n\u001b[0m",
      "\u001b[0;31mKeyboardInterrupt\u001b[0m: "
     ]
    }
   ],
   "source": [
    "while True:\n",
    "    description = sm.describe_auto_ml_job(AutoMLJobName=auto_ml_job_name)\n",
    "    print(\"{} -- {}\".format(description['AutoMLJobStatus'], description['AutoMLJobSecondaryStatus']))\n",
    "    sleep(30)"
   ]
  },
  {
   "cell_type": "markdown",
   "metadata": {},
   "source": [
    "### Evaluate our job"
   ]
  },
  {
   "cell_type": "markdown",
   "metadata": {},
   "source": [
    "We pull data from our AutoML job and evaluate."
   ]
  },
  {
   "cell_type": "code",
   "execution_count": 45,
   "metadata": {},
   "outputs": [
    {
     "name": "stdout",
     "output_type": "stream",
     "text": [
      "0.8920999765396118 -- tuning-job-1-e3eacd63e426404abe-034-ee63f814\n",
      "0.8858399987220764 -- tuning-job-1-e3eacd63e426404abe-049-43ed7e22\n",
      "0.8845900297164917 -- tuning-job-1-e3eacd63e426404abe-069-ec7546ab\n",
      "0.8841500282287598 -- tuning-job-1-e3eacd63e426404abe-061-9b1cfa28\n",
      "0.8778899908065796 -- tuning-job-1-e3eacd63e426404abe-029-4e16103c\n",
      "0.8743399977684021 -- tuning-job-1-e3eacd63e426404abe-055-5e23c003\n",
      "0.8573499917984009 -- tuning-job-1-e3eacd63e426404abe-043-0cf3ce8b\n",
      "0.8563500046730042 -- tuning-job-1-e3eacd63e426404abe-057-79b941ba\n",
      "0.850350022315979 -- tuning-job-1-e3eacd63e426404abe-045-b06f1d3e\n",
      "0.8365600109100342 -- tuning-job-1-e3eacd63e426404abe-016-7ea96177\n"
     ]
    }
   ],
   "source": [
    "candidates = sm.list_candidates_for_auto_ml_job(AutoMLJobName=auto_ml_job_name,\n",
    "                                                SortBy='FinalObjectiveMetricValue'\n",
    "                                               )['Candidates']\n",
    "for candidate in candidates:\n",
    "    print(\"{} -- {}\".format(\n",
    "        candidate['FinalAutoMLJobObjectiveMetric']['Value'],\n",
    "        candidate['CandidateName']))"
   ]
  },
  {
   "cell_type": "markdown",
   "metadata": {},
   "source": [
    "### Deploy our best job"
   ]
  },
  {
   "cell_type": "code",
   "execution_count": 47,
   "metadata": {},
   "outputs": [],
   "source": [
    "model_name = \"facies-model-{}\".format(int(now.timestamp()))\n",
    "endpoint_config_name = \"facies-endpoint-config-{}\".format(int(now.timestamp()))\n",
    "endpoint_name = \"facies-endpoint-{}\".format(int(now.timestamp()))\n",
    "variant_name = \"facies-varient-{}\".format(int(now.timestamp()))"
   ]
  },
  {
   "cell_type": "code",
   "execution_count": 49,
   "metadata": {},
   "outputs": [],
   "source": [
    "model_arn = sm.create_model(Containers=candidates[0]['InferenceContainers'],\n",
    "                            ModelName=model_name,\n",
    "                            ExecutionRoleArn=os.environ['SM_ROLE'])"
   ]
  },
  {
   "cell_type": "code",
   "execution_count": 50,
   "metadata": {},
   "outputs": [],
   "source": [
    "ep_config = sm.create_endpoint_config(EndpointConfigName = endpoint_config_name,\n",
    "                                      ProductionVariants = [{'InstanceType': 'ml.m5.xlarge',\n",
    "                                                             'InitialInstanceCount': 2,\n",
    "                                                             'ModelName': model_name,\n",
    "                                                             'VariantName': variant_name}])"
   ]
  },
  {
   "cell_type": "code",
   "execution_count": 51,
   "metadata": {},
   "outputs": [],
   "source": [
    "create_endpoint_response = sm.create_endpoint(EndpointName=endpoint_name,\n",
    "                                              EndpointConfigName=endpoint_config_name)"
   ]
  },
  {
   "cell_type": "code",
   "execution_count": 52,
   "metadata": {},
   "outputs": [
    {
     "name": "stdout",
     "output_type": "stream",
     "text": [
      "Creating\n",
      "Creating\n",
      "Creating\n",
      "Creating\n",
      "Creating\n",
      "Creating\n",
      "Creating\n",
      "Creating\n",
      "Creating\n",
      "Creating\n",
      "Creating\n",
      "Creating\n",
      "Creating\n",
      "Creating\n",
      "Creating\n",
      "InService\n"
     ]
    },
    {
     "ename": "KeyboardInterrupt",
     "evalue": "",
     "output_type": "error",
     "traceback": [
      "\u001b[0;31m---------------------------------------------------------------------------\u001b[0m",
      "\u001b[0;31mKeyboardInterrupt\u001b[0m                         Traceback (most recent call last)",
      "\u001b[0;32m<ipython-input-52-79d4296ea04d>\u001b[0m in \u001b[0;36m<module>\u001b[0;34m\u001b[0m\n\u001b[1;32m      1\u001b[0m \u001b[0;32mwhile\u001b[0m \u001b[0;32mTrue\u001b[0m\u001b[0;34m:\u001b[0m\u001b[0;34m\u001b[0m\u001b[0;34m\u001b[0m\u001b[0m\n\u001b[1;32m      2\u001b[0m     \u001b[0mprint\u001b[0m\u001b[0;34m(\u001b[0m\u001b[0msm\u001b[0m\u001b[0;34m.\u001b[0m\u001b[0mdescribe_endpoint\u001b[0m\u001b[0;34m(\u001b[0m\u001b[0mEndpointName\u001b[0m\u001b[0;34m=\u001b[0m\u001b[0mendpoint_name\u001b[0m\u001b[0;34m)\u001b[0m\u001b[0;34m[\u001b[0m\u001b[0;34m'EndpointStatus'\u001b[0m\u001b[0;34m]\u001b[0m\u001b[0;34m)\u001b[0m\u001b[0;34m\u001b[0m\u001b[0;34m\u001b[0m\u001b[0m\n\u001b[0;32m----> 3\u001b[0;31m     \u001b[0msleep\u001b[0m\u001b[0;34m(\u001b[0m\u001b[0;36m30\u001b[0m\u001b[0;34m)\u001b[0m\u001b[0;34m\u001b[0m\u001b[0;34m\u001b[0m\u001b[0m\n\u001b[0m",
      "\u001b[0;31mKeyboardInterrupt\u001b[0m: "
     ]
    }
   ],
   "source": [
    "while True:\n",
    "    print(sm.describe_endpoint(EndpointName=endpoint_name)['EndpointStatus'])\n",
    "    sleep(30)"
   ]
  },
  {
   "cell_type": "markdown",
   "metadata": {},
   "source": [
    "### Predict the test dataset"
   ]
  },
  {
   "cell_type": "code",
   "execution_count": 54,
   "metadata": {},
   "outputs": [
    {
     "data": {
      "text/plain": [
       "{'EndpointName': 'facies-endpoint-1602734264',\n",
       " 'EndpointArn': 'arn:aws:sagemaker:ap-southeast-2:949012111517:endpoint/facies-endpoint-1602734264',\n",
       " 'EndpointConfigName': 'facies-endpoint-config-1602734264',\n",
       " 'ProductionVariants': [{'VariantName': 'facies-varient-1602734264',\n",
       "   'DeployedImages': [{'SpecifiedImage': '783357654285.dkr.ecr.ap-southeast-2.amazonaws.com/sagemaker-sklearn-automl:0.2-1-cpu-py3',\n",
       "     'ResolvedImage': '783357654285.dkr.ecr.ap-southeast-2.amazonaws.com/sagemaker-sklearn-automl@sha256:37b0215b75ec2de3f8974cbbdf9cbd7bc6f6cb0bb0f4e36437e4c4ef4dfc12b9',\n",
       "     'ResolutionTime': datetime.datetime(2020, 10, 15, 6, 55, 21, 438000, tzinfo=tzlocal())},\n",
       "    {'SpecifiedImage': '783357654285.dkr.ecr.ap-southeast-2.amazonaws.com/sagemaker-xgboost:1.0-1-cpu-py3',\n",
       "     'ResolvedImage': '783357654285.dkr.ecr.ap-southeast-2.amazonaws.com/sagemaker-xgboost@sha256:b0f7d76963f88f9890bfa3288e256d4cc14308ace32a036f77b977d8cf4319a5',\n",
       "     'ResolutionTime': datetime.datetime(2020, 10, 15, 6, 55, 21, 524000, tzinfo=tzlocal())}],\n",
       "   'CurrentWeight': 1.0,\n",
       "   'DesiredWeight': 1.0,\n",
       "   'CurrentInstanceCount': 2,\n",
       "   'DesiredInstanceCount': 2}],\n",
       " 'EndpointStatus': 'InService',\n",
       " 'CreationTime': datetime.datetime(2020, 10, 15, 6, 55, 19, 19000, tzinfo=tzlocal()),\n",
       " 'LastModifiedTime': datetime.datetime(2020, 10, 15, 7, 2, 30, 697000, tzinfo=tzlocal()),\n",
       " 'ResponseMetadata': {'RequestId': 'd005f170-1d68-45e2-99b8-63273e7f5cb3',\n",
       "  'HTTPStatusCode': 200,\n",
       "  'HTTPHeaders': {'x-amzn-requestid': 'd005f170-1d68-45e2-99b8-63273e7f5cb3',\n",
       "   'content-type': 'application/x-amz-json-1.1',\n",
       "   'content-length': '1077',\n",
       "   'date': 'Thu, 15 Oct 2020 07:03:34 GMT'},\n",
       "  'RetryAttempts': 0}}"
      ]
     },
     "execution_count": 54,
     "metadata": {},
     "output_type": "execute_result"
    }
   ],
   "source": [
    "smr = boto3.client(\"sagemaker-runtime\",\n",
    "                  region_name=os.environ[\"S3_REGION\"])\n",
    "sm.describe_endpoint(EndpointName=endpoint_name)"
   ]
  },
  {
   "cell_type": "markdown",
   "metadata": {},
   "source": [
    "We must define our input data.\n",
    "\n",
    "The test data is too large to submit in a single push, so we break it down into smaller chunks."
   ]
  },
  {
   "cell_type": "code",
   "execution_count": 65,
   "metadata": {},
   "outputs": [
    {
     "data": {
      "text/plain": [
       "136786"
      ]
     },
     "execution_count": 65,
     "metadata": {},
     "output_type": "execute_result"
    }
   ],
   "source": [
    "len(df_test)"
   ]
  },
  {
   "cell_type": "code",
   "execution_count": 82,
   "metadata": {},
   "outputs": [],
   "source": [
    "chunk = 10000"
   ]
  },
  {
   "cell_type": "code",
   "execution_count": 87,
   "metadata": {},
   "outputs": [
    {
     "name": "stdout",
     "output_type": "stream",
     "text": [
      "0\n",
      "1\n",
      "2\n",
      "3\n",
      "4\n",
      "5\n",
      "6\n",
      "7\n",
      "8\n",
      "9\n",
      "10\n",
      "11\n",
      "12\n",
      "13\n"
     ]
    }
   ],
   "source": [
    "responses = []\n",
    "for i in range(0, len(df_test) // chunk + 1):  # workaround for ceiling\n",
    "    print(i)\n",
    "    csv_file = io.StringIO()\n",
    "    # by default sagemaker expects comma seperated\n",
    "    (df_test\n",
    "     .iloc[i*chunk:(i+1)*chunk]\n",
    "     .to_csv(csv_file, sep=\",\", header=False, index=False))\n",
    "    csv_payload = csv_file.getvalue()\n",
    "    responses.append(smr.invoke_endpoint(EndpointName=endpoint_name, ContentType='text/csv', Body=csv_payload))"
   ]
  },
  {
   "cell_type": "code",
   "execution_count": 88,
   "metadata": {},
   "outputs": [],
   "source": [
    "results = \"\"\n",
    "for response in responses:\n",
    "    results += response['Body'].read().decode(\"utf-8\")"
   ]
  },
  {
   "cell_type": "code",
   "execution_count": 99,
   "metadata": {},
   "outputs": [],
   "source": [
    "split_outputs = results.split(\"\\n\")[:-1]\n",
    "assert len(split_outputs) == len(df_test) "
   ]
  },
  {
   "cell_type": "markdown",
   "metadata": {},
   "source": [
    "(What's the format of our response?)"
   ]
  },
  {
   "cell_type": "code",
   "execution_count": 100,
   "metadata": {},
   "outputs": [
    {
     "data": {
      "text/plain": [
       "'65000\\n65000\\n65000\\n65'"
      ]
     },
     "execution_count": 100,
     "metadata": {},
     "output_type": "execute_result"
    }
   ],
   "source": [
    "results[0:20]"
   ]
  },
  {
   "cell_type": "code",
   "execution_count": 103,
   "metadata": {},
   "outputs": [],
   "source": [
    "with open(join(xeek.processed_data_dir, \"automl_predictions.csv\"), 'w') as f:\n",
    "    f.write(\"lithology\\n\" + results)"
   ]
  }
 ],
 "metadata": {
  "kernelspec": {
   "display_name": "xeek-wel-logs-facies-b9zz0S8Y",
   "language": "python",
   "name": "xeek-wel-logs-facies-b9zz0s8y"
  },
  "language_info": {
   "codemirror_mode": {
    "name": "ipython",
    "version": 3
   },
   "file_extension": ".py",
   "mimetype": "text/x-python",
   "name": "python",
   "nbconvert_exporter": "python",
   "pygments_lexer": "ipython3",
   "version": "3.6.9"
  }
 },
 "nbformat": 4,
 "nbformat_minor": 4
}
