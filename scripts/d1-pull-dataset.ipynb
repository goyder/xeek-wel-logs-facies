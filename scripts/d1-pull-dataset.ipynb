{
 "cells": [
  {
   "cell_type": "code",
   "execution_count": 2,
   "metadata": {},
   "outputs": [],
   "source": [
    "import boto3\n",
    "import xeek\n",
    "import os\n",
    "from os.path import join"
   ]
  },
  {
   "cell_type": "markdown",
   "metadata": {},
   "source": [
    "We pull down the relevant files.\n",
    "\n",
    "Note that the S3 bucket is defined in the `S3_BUCKET` environmental variable."
   ]
  },
  {
   "cell_type": "code",
   "execution_count": 3,
   "metadata": {},
   "outputs": [],
   "source": [
    "s3 = boto3.client('s3')\n",
    "for file in ['train.csv', 'test.csv']:\n",
    "    s3.download_file(os.environ['S3_BUCKET'],\n",
    "                     'facies/' + file,\n",
    "                     join(xeek.external_data_dir, file))"
   ]
  }
 ],
 "metadata": {
  "kernelspec": {
   "display_name": "xeek-wel-logs-facies-b9zz0S8Y",
   "language": "python",
   "name": "xeek-wel-logs-facies-b9zz0s8y"
  },
  "language_info": {
   "codemirror_mode": {
    "name": "ipython",
    "version": 3
   },
   "file_extension": ".py",
   "mimetype": "text/x-python",
   "name": "python",
   "nbconvert_exporter": "python",
   "pygments_lexer": "ipython3",
   "version": "3.6.9"
  }
 },
 "nbformat": 4,
 "nbformat_minor": 4
}
